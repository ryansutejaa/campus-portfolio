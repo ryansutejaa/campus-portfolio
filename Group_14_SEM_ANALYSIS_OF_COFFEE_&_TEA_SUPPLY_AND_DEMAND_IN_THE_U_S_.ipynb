{
  "nbformat": 4,
  "nbformat_minor": 0,
  "metadata": {
    "colab": {
      "provenance": [],
      "collapsed_sections": [
        "LBdcNUOWcS9O",
        "GfmQFBzudLqu",
        "_kyOwSQyrb7D",
        "ASlQ-gdGlh0r",
        "GwM2pIoMmBzd",
        "MsdIjIJSmFno",
        "G20z2Hwdu-vA",
        "lq8y-ig_vCXN",
        "m0R7wPJ5psK2",
        "PsY20SrAwLhH",
        "WX8xAUWTsyyu",
        "3l4fWXjLB7FT",
        "J01A-UNNXvGL",
        "EuT-GAUKX6Xh"
      ]
    },
    "kernelspec": {
      "name": "python3",
      "display_name": "Python 3"
    },
    "language_info": {
      "name": "python"
    }
  },
  "cells": [
    {
      "cell_type": "markdown",
      "metadata": {
        "id": "XrK8GiXGXAW9"
      },
      "source": [
        "# **FINAL PROJECT ECONOMETRIC**\n",
        "# **ANALYSING WITH 2SLS**\n",
        "\n",
        "---\n",
        "\n",
        "\n",
        "Ryan Suteja 23101910084\n",
        "\n",
        "Marcella 23101910016\n",
        "\n",
        "Catherine 23101910013\n",
        "\n",
        "\n",
        "BM19B\n",
        "\n",
        "---\n",
        "\n"
      ]
    },
    {
      "cell_type": "markdown",
      "metadata": {
        "id": "LBdcNUOWcS9O"
      },
      "source": [
        "# Supply Demand Formula"
      ]
    },
    {
      "cell_type": "markdown",
      "metadata": {
        "id": "LOaR6rs7dGzt"
      },
      "source": [
        "$\\displaystyle  \\begin{array}{{>{\\displaystyle}l}}\n",
        "\\mathbb{Q} s=Quantity\\ supply\\\\\n",
        "\\mathbb{Q} d=Quantity\\ demand\\\\\n",
        "P\\ =Coffee\\ and\\ tea\\ Price\\\\\n",
        "Pp\\ =Coffee\\ and\\ tea\\ PPI\\\\\n",
        "Pc\\ =CPO\\ price\\\\\n",
        "I\\ =\\ Monthly\\ income\\ \\\\\n",
        "\\\\\n",
        "\\mathbb{Q} s\\ =\\ \\beta _{1} +\\beta _{2} P\\ +\\beta _{3} Pp+\\epsilon _{s}\\\\\n",
        "\\mathbb{Q} d\\ =\\alpha _{1} +\\alpha _{2} P\\ +\\alpha _{3} Pc+\\alpha _{4} I+\\epsilon _{d}\\\\\n",
        "P\\ =\\ \\gamma _{1} +\\gamma _{2} Pp+\\gamma _{3} Pc+\\gamma _{4} I+\\epsilon _{p}\n",
        "\\end{array}$"
      ]
    },
    {
      "cell_type": "markdown",
      "metadata": {
        "id": "GfmQFBzudLqu"
      },
      "source": [
        "# Reduced Form"
      ]
    },
    {
      "cell_type": "markdown",
      "metadata": {
        "id": "s0y2CBQAgP4B"
      },
      "source": [
        "$\\displaystyle  \\begin{array}{{>{\\displaystyle}l}}\n",
        "\\mathbb{Q} s=\\mathbb{Q} d\\\\\n",
        "\\beta _{1} +\\beta _{2} P\\ +\\beta _{3} Pp+\\epsilon _{s} =\\alpha _{1} +\\alpha _{2} P\\ +\\alpha _{3} Pc+\\alpha _{4} I+\\epsilon _{d}\\\\\n",
        "P=\\left(\\frac{\\beta _{1} -\\alpha _{1}}{\\alpha _{2} -\\beta _{2}}\\right) +\\left(\\frac{-\\alpha _{3}}{\\alpha _{2} -\\beta _{2}}\\right) Pc+\\left(\\frac{\\beta _{3}}{\\alpha _{2} -\\beta _{2}}\\right) Pp+\\left(\\frac{-\\alpha _{4}}{\\alpha _{2} -\\beta _{2}}\\right) I+\\left(\\frac{\\epsilon _{s} -\\epsilon _{d}}{\\alpha _{2} -\\beta _{2}}\\right)\\\\\n",
        "P=\\pi _{11} +\\pi _{12} X_{1} +\\pi _{13} X_{2} +\\pi _{14} X_{3} +v_{1}\n",
        "\\end{array}$"
      ]
    },
    {
      "cell_type": "markdown",
      "metadata": {
        "id": "MKd1WIh0gTJC"
      },
      "source": [
        "$\\displaystyle  \\begin{array}{{>{\\displaystyle}l}}\n",
        "\\mathbb{Q} s=\\beta _{1} +\\beta _{2}\\left(\\left(\\frac{\\beta _{1} -\\alpha _{1}}{\\alpha _{2} -\\beta _{2}}\\right) +\\left(\\frac{-\\alpha _{3}}{\\alpha _{2} -\\beta _{2}}\\right) Pc+\\left(\\frac{\\beta _{3}}{\\alpha _{2} -\\beta _{2}}\\right) Pp+\\left(\\frac{-\\alpha _{4}}{\\alpha _{2} -\\beta _{2}}\\right) I+\\left(\\frac{\\epsilon _{s} -\\epsilon _{d}}{\\alpha _{2} -\\beta _{2}}\\right)\\right) \\ +\\beta _{3} Pp+\\epsilon _{s}\\\\\n",
        "\\mathbb{Q} s=\\left( \\beta _{1} +\\beta _{2}\\left(\\frac{\\beta _{1} -\\alpha _{1}}{\\alpha _{2} -\\beta _{2}}\\right)\\right) +\\left(\\frac{-\\beta _{2} \\alpha _{3}}{\\alpha _{2} -\\beta _{2}}\\right) Pc+\\left( \\beta _{3} +\\frac{\\beta _{2} \\beta _{3}}{\\alpha _{2} -\\beta _{2}}\\right) Pp+\\left(\\frac{-\\beta _{2} \\alpha _{4}}{\\alpha _{2} -\\beta _{2}}\\right) I+\\beta _{2}\\left(\\frac{\\epsilon _{s} -\\epsilon _{d}}{\\alpha _{2} -\\beta _{2}}\\right) +\\epsilon _{s}\\\\\n",
        "\\mathbb{Q} s=\\pi _{21} +\\pi _{22} X_{1} +\\pi _{23} X_{2} +\\pi _{24} X_{3} +v_{2}\n",
        "\\end{array}$"
      ]
    },
    {
      "cell_type": "markdown",
      "metadata": {
        "id": "uBC_qn2egTP7"
      },
      "source": [
        "$\\displaystyle  \\begin{array}{{>{\\displaystyle}l}}\n",
        "\\mathbb{Q} d=\\alpha _{1} +\\alpha _{2} P\\ +\\alpha _{3} Pc+\\alpha _{4} I+\\epsilon _{d}\\\\\n",
        "\\mathbb{Q} d=\\alpha _{1} +\\alpha _{2}\\left(\\left(\\frac{\\beta _{1} -\\alpha _{1}}{\\alpha _{2} -\\beta _{2}}\\right) +\\left(\\frac{-\\alpha _{3}}{\\alpha _{2} -\\beta _{2}}\\right) Pc+\\left(\\frac{\\beta _{3}}{\\alpha _{2} -\\beta _{2}}\\right) Pp+\\left(\\frac{-\\alpha _{4}}{\\alpha _{2} -\\beta _{2}}\\right) I+\\left(\\frac{\\epsilon _{s} -\\epsilon _{d}}{\\alpha _{2} -\\beta _{2}}\\right)\\right) +\\alpha _{3} Pc+\\alpha _{4} I+\\epsilon _{d}\\\\\n",
        "\\mathbb{Q} d=\\left( \\alpha _{1} +\\alpha _{2}\\left(\\frac{\\beta _{1} -\\alpha _{1}}{\\alpha _{2} -\\beta _{2}}\\right)\\right) +\\left( \\alpha _{3} +\\frac{-\\alpha _{2} \\alpha _{3}}{\\alpha _{2} -\\beta _{2}}\\right) Pc+\\left(\\frac{\\alpha _{2} \\beta _{3}}{\\alpha _{2} -\\beta _{2}}\\right) Pp+\\left( \\alpha _{4} +\\left(\\frac{-\\alpha _{2} \\alpha _{4}}{\\alpha _{2} -\\beta _{2}}\\right)\\right) I+\\alpha _{2}\\left(\\frac{\\epsilon _{s} -\\epsilon _{d}}{\\alpha _{2} -\\beta _{2}}\\right) +\\epsilon _{d}\\\\\n",
        "\\mathbb{Q} d=\\pi _{31} +\\pi _{32} X_{1} +\\pi _{33} X_{2} +\\pi _{34} X_{3} +v_{3}\n",
        "\\end{array}$"
      ]
    },
    {
      "cell_type": "markdown",
      "metadata": {
        "id": "LIGfWG53j3wK"
      },
      "source": [
        "$\\displaystyle  \\begin{array}{{>{\\displaystyle}l}}\n",
        "X_{1} =Pc\\\\\n",
        "X_{2} =Pp\\\\\n",
        "X_{3} =I\\\\\n",
        "\\pi _{11} =\\left(\\frac{\\beta _{1} -\\alpha _{1}}{\\alpha _{2} -\\beta _{2}}\\right)\\\\\n",
        "\\pi _{12} =\\left(\\frac{-\\alpha _{3}}{\\alpha _{2} -\\beta _{2}}\\right)\\\\\n",
        "\\pi _{13} =\\left(\\frac{\\beta _{3}}{\\alpha _{2} -\\beta _{2}}\\right)\\\\\n",
        "\\pi _{14} =\\left(\\frac{-\\alpha _{4}}{\\alpha _{2} -\\beta _{2}}\\right)\\\\\n",
        "\\pi _{21} =\\left( \\beta _{1} +\\beta _{2}\\left(\\frac{\\beta _{1} -\\alpha _{1}}{\\alpha _{2} -\\beta _{2}}\\right)\\right)\\\\\n",
        "\\pi _{22} =\\left(\\frac{-\\beta _{2} \\alpha _{3}}{\\alpha _{2} -\\beta _{2}}\\right)\\\\\n",
        "\\pi _{23} =\\left( \\beta _{3} +\\frac{\\beta _{2} \\beta _{3}}{\\alpha _{2} -\\beta _{2}}\\right)\\\\\n",
        "\\pi _{24} =\\left(\\frac{-\\beta _{2} \\alpha _{4}}{\\alpha _{2} -\\beta _{2}}\\right)\\\\\n",
        "\\pi _{31} =\\left( \\alpha _{1} +\\alpha _{2}\\left(\\frac{\\beta _{1} -\\alpha _{1}}{\\alpha _{2} -\\beta _{2}}\\right)\\right)\\\\\n",
        "\\pi _{32} =\\left( \\alpha _{3} +\\frac{-\\alpha _{2} \\alpha _{3}}{\\alpha _{2} -\\beta _{2}}\\right)\\\\\n",
        "\\pi _{33} =\\left(\\frac{\\alpha _{2} \\beta _{3}}{\\alpha _{2} -\\beta _{2}}\\right)\\\\\n",
        "\\pi _{34} =\\left( \\alpha _{4} +\\left(\\frac{-\\alpha _{2} \\alpha _{4}}{\\alpha _{2} -\\beta _{2}}\\right)\\right)\\\\\n",
        "v_{1} =\\left(\\frac{\\epsilon _{s} -\\epsilon _{d}}{\\alpha _{2} -\\beta _{2}}\\right)\\\\\n",
        "v_{2} =\\beta _{2}\\left(\\frac{\\epsilon _{s} -\\epsilon _{d}}{\\alpha _{2} -\\beta _{2}}\\right) +\\epsilon _{s}\\\\\n",
        "v_{3} =\\alpha _{2}\\left(\\frac{\\epsilon _{s} -\\epsilon _{d}}{\\alpha _{2} -\\beta _{2}}\\right) +\\epsilon _{d}\n",
        "\\end{array}$"
      ]
    },
    {
      "cell_type": "markdown",
      "metadata": {
        "id": "_kyOwSQyrb7D"
      },
      "source": [
        "# Import Libraries and read data"
      ]
    },
    {
      "cell_type": "code",
      "metadata": {
        "colab": {
          "base_uri": "https://localhost:8080/"
        },
        "id": "vXUKkijkqpkP",
        "outputId": "c223d45e-a589-45f5-c5a5-423f57213b2a"
      },
      "source": [
        "!pip install linearmodels"
      ],
      "execution_count": null,
      "outputs": [
        {
          "output_type": "stream",
          "text": [
            "Requirement already satisfied: linearmodels in /usr/local/lib/python3.7/dist-packages (4.24)\n",
            "Requirement already satisfied: Cython>=0.29.21 in /usr/local/lib/python3.7/dist-packages (from linearmodels) (0.29.23)\n",
            "Requirement already satisfied: pyhdfe>=0.1 in /usr/local/lib/python3.7/dist-packages (from linearmodels) (0.1.0)\n",
            "Requirement already satisfied: pandas>=0.24 in /usr/local/lib/python3.7/dist-packages (from linearmodels) (1.1.5)\n",
            "Requirement already satisfied: patsy in /usr/local/lib/python3.7/dist-packages (from linearmodels) (0.5.1)\n",
            "Requirement already satisfied: mypy-extensions>=0.4 in /usr/local/lib/python3.7/dist-packages (from linearmodels) (0.4.3)\n",
            "Requirement already satisfied: property-cached>=1.6.3 in /usr/local/lib/python3.7/dist-packages (from linearmodels) (1.6.4)\n",
            "Requirement already satisfied: scipy>=1.2 in /usr/local/lib/python3.7/dist-packages (from linearmodels) (1.4.1)\n",
            "Requirement already satisfied: statsmodels>=0.11 in /usr/local/lib/python3.7/dist-packages (from linearmodels) (0.12.2)\n",
            "Requirement already satisfied: numpy>=1.16 in /usr/local/lib/python3.7/dist-packages (from linearmodels) (1.19.5)\n",
            "Requirement already satisfied: python-dateutil>=2.7.3 in /usr/local/lib/python3.7/dist-packages (from pandas>=0.24->linearmodels) (2.8.1)\n",
            "Requirement already satisfied: pytz>=2017.2 in /usr/local/lib/python3.7/dist-packages (from pandas>=0.24->linearmodels) (2018.9)\n",
            "Requirement already satisfied: six in /usr/local/lib/python3.7/dist-packages (from patsy->linearmodels) (1.15.0)\n"
          ],
          "name": "stdout"
        }
      ]
    },
    {
      "cell_type": "code",
      "metadata": {
        "id": "znjwScMh06uO"
      },
      "source": [
        "import pandas as pd\n",
        "import numpy as np\n",
        "import matplotlib.pyplot as plt\n",
        "import seaborn as sns\n",
        "import statsmodels.api as sm\n",
        "import statsmodels.formula.api as smf\n",
        "from statsmodels.stats.stattools import durbin_watson\n",
        "import pylab as py\n",
        "from scipy import stats\n",
        "from statsmodels.stats.stattools import jarque_bera"
      ],
      "execution_count": null,
      "outputs": []
    },
    {
      "cell_type": "code",
      "metadata": {
        "colab": {
          "base_uri": "https://localhost:8080/",
          "height": 235
        },
        "id": "P925M6CZp-j7",
        "outputId": "49f76341-d5d9-4ef6-ce8a-6e286a06e746"
      },
      "source": [
        "raw = pd.read_excel('DATA FP ECONO.xlsx',index_col=0,parse_dates=['observation_date'])\n",
        "raw.head()"
      ],
      "execution_count": null,
      "outputs": [
        {
          "output_type": "execute_result",
          "data": {
            "text/html": [
              "<div>\n",
              "<style scoped>\n",
              "    .dataframe tbody tr th:only-of-type {\n",
              "        vertical-align: middle;\n",
              "    }\n",
              "\n",
              "    .dataframe tbody tr th {\n",
              "        vertical-align: top;\n",
              "    }\n",
              "\n",
              "    .dataframe thead th {\n",
              "        text-align: right;\n",
              "    }\n",
              "</style>\n",
              "<table border=\"1\" class=\"dataframe\">\n",
              "  <thead>\n",
              "    <tr style=\"text-align: right;\">\n",
              "      <th></th>\n",
              "      <th>US Monthly Income</th>\n",
              "      <th>Coffee and tea ppi</th>\n",
              "      <th>CPO_price</th>\n",
              "      <th>Coffee price</th>\n",
              "      <th>Coffee and tea production</th>\n",
              "      <th>tea price</th>\n",
              "      <th>coffee and tea price</th>\n",
              "    </tr>\n",
              "    <tr>\n",
              "      <th>observation_date</th>\n",
              "      <th></th>\n",
              "      <th></th>\n",
              "      <th></th>\n",
              "      <th></th>\n",
              "      <th></th>\n",
              "      <th></th>\n",
              "      <th></th>\n",
              "    </tr>\n",
              "  </thead>\n",
              "  <tbody>\n",
              "    <tr>\n",
              "      <th>2008-01-01</th>\n",
              "      <td>38095</td>\n",
              "      <td>181.1</td>\n",
              "      <td>1122.15</td>\n",
              "      <td>138.15</td>\n",
              "      <td>67.9724</td>\n",
              "      <td>2.14</td>\n",
              "      <td>140.29</td>\n",
              "    </tr>\n",
              "    <tr>\n",
              "      <th>2008-02-01</th>\n",
              "      <td>38061</td>\n",
              "      <td>185.6</td>\n",
              "      <td>1268.63</td>\n",
              "      <td>164.60</td>\n",
              "      <td>68.1087</td>\n",
              "      <td>2.42</td>\n",
              "      <td>167.02</td>\n",
              "    </tr>\n",
              "    <tr>\n",
              "      <th>2008-03-01</th>\n",
              "      <td>38019</td>\n",
              "      <td>192.5</td>\n",
              "      <td>1377.22</td>\n",
              "      <td>127.40</td>\n",
              "      <td>67.9600</td>\n",
              "      <td>2.10</td>\n",
              "      <td>129.50</td>\n",
              "    </tr>\n",
              "    <tr>\n",
              "      <th>2008-04-01</th>\n",
              "      <td>37839</td>\n",
              "      <td>188.5</td>\n",
              "      <td>1320.11</td>\n",
              "      <td>134.55</td>\n",
              "      <td>69.0670</td>\n",
              "      <td>2.20</td>\n",
              "      <td>136.75</td>\n",
              "    </tr>\n",
              "    <tr>\n",
              "      <th>2008-05-01</th>\n",
              "      <td>39623</td>\n",
              "      <td>188.6</td>\n",
              "      <td>1326.45</td>\n",
              "      <td>133.90</td>\n",
              "      <td>69.2037</td>\n",
              "      <td>2.14</td>\n",
              "      <td>136.04</td>\n",
              "    </tr>\n",
              "  </tbody>\n",
              "</table>\n",
              "</div>"
            ],
            "text/plain": [
              "                  US Monthly Income  ...  coffee and tea price\n",
              "observation_date                     ...                      \n",
              "2008-01-01                    38095  ...                140.29\n",
              "2008-02-01                    38061  ...                167.02\n",
              "2008-03-01                    38019  ...                129.50\n",
              "2008-04-01                    37839  ...                136.75\n",
              "2008-05-01                    39623  ...                136.04\n",
              "\n",
              "[5 rows x 7 columns]"
            ]
          },
          "metadata": {
            "tags": []
          },
          "execution_count": 3
        }
      ]
    },
    {
      "cell_type": "code",
      "metadata": {
        "id": "a008qUeLrjwK"
      },
      "source": [
        "raw=raw.rename(columns={'US Monthly Income':'us_monthly_income',\n",
        "                        'Coffee and tea ppi':'coffee_tea_ppi',\n",
        "                        'CPO_price':'cpo_price',\n",
        "                      'Coffee and tea production':'coffee_tea_quantity',\n",
        "                      'coffee and tea price':'coffee_tea_price'})"
      ],
      "execution_count": null,
      "outputs": []
    },
    {
      "cell_type": "code",
      "metadata": {
        "colab": {
          "base_uri": "https://localhost:8080/"
        },
        "id": "GbZ_PkSSrHnS",
        "outputId": "4b349ecd-73f7-47de-c1bc-6f1df268a25f"
      },
      "source": [
        "raw.info()"
      ],
      "execution_count": null,
      "outputs": [
        {
          "output_type": "stream",
          "text": [
            "<class 'pandas.core.frame.DataFrame'>\n",
            "DatetimeIndex: 120 entries, 2008-01-01 to 2017-12-01\n",
            "Data columns (total 7 columns):\n",
            " #   Column               Non-Null Count  Dtype  \n",
            "---  ------               --------------  -----  \n",
            " 0   us_monthly_income    120 non-null    int64  \n",
            " 1   coffee_tea_ppi       120 non-null    float64\n",
            " 2   cpo_price            120 non-null    float64\n",
            " 3   Coffee price         120 non-null    float64\n",
            " 4   coffee_tea_quantity  120 non-null    float64\n",
            " 5   tea price            120 non-null    float64\n",
            " 6   coffee_tea_price     120 non-null    float64\n",
            "dtypes: float64(6), int64(1)\n",
            "memory usage: 7.5 KB\n"
          ],
          "name": "stdout"
        }
      ]
    },
    {
      "cell_type": "code",
      "metadata": {
        "colab": {
          "base_uri": "https://localhost:8080/"
        },
        "id": "PPriFe5GrLBa",
        "outputId": "3f5d31e0-33f9-4277-e31e-7746d017b69a"
      },
      "source": [
        "raw.isna().sum()"
      ],
      "execution_count": null,
      "outputs": [
        {
          "output_type": "execute_result",
          "data": {
            "text/plain": [
              "us_monthly_income      0\n",
              "coffee_tea_ppi         0\n",
              "cpo_price              0\n",
              "Coffee price           0\n",
              "coffee_tea_quantity    0\n",
              "tea price              0\n",
              "coffee_tea_price       0\n",
              "dtype: int64"
            ]
          },
          "metadata": {
            "tags": []
          },
          "execution_count": 6
        }
      ]
    },
    {
      "cell_type": "code",
      "metadata": {
        "colab": {
          "base_uri": "https://localhost:8080/",
          "height": 235
        },
        "id": "mQMj6H4t4qgE",
        "outputId": "67ce9dd3-a760-44ee-e4ac-768fd89cc7fc"
      },
      "source": [
        "df = raw[['us_monthly_income','coffee_tea_ppi','cpo_price','coffee_tea_quantity','coffee_tea_price']]\n",
        "df.head()"
      ],
      "execution_count": null,
      "outputs": [
        {
          "output_type": "execute_result",
          "data": {
            "text/html": [
              "<div>\n",
              "<style scoped>\n",
              "    .dataframe tbody tr th:only-of-type {\n",
              "        vertical-align: middle;\n",
              "    }\n",
              "\n",
              "    .dataframe tbody tr th {\n",
              "        vertical-align: top;\n",
              "    }\n",
              "\n",
              "    .dataframe thead th {\n",
              "        text-align: right;\n",
              "    }\n",
              "</style>\n",
              "<table border=\"1\" class=\"dataframe\">\n",
              "  <thead>\n",
              "    <tr style=\"text-align: right;\">\n",
              "      <th></th>\n",
              "      <th>us_monthly_income</th>\n",
              "      <th>coffee_tea_ppi</th>\n",
              "      <th>cpo_price</th>\n",
              "      <th>coffee_tea_quantity</th>\n",
              "      <th>coffee_tea_price</th>\n",
              "    </tr>\n",
              "    <tr>\n",
              "      <th>observation_date</th>\n",
              "      <th></th>\n",
              "      <th></th>\n",
              "      <th></th>\n",
              "      <th></th>\n",
              "      <th></th>\n",
              "    </tr>\n",
              "  </thead>\n",
              "  <tbody>\n",
              "    <tr>\n",
              "      <th>2008-01-01</th>\n",
              "      <td>38095</td>\n",
              "      <td>181.1</td>\n",
              "      <td>1122.15</td>\n",
              "      <td>67.9724</td>\n",
              "      <td>140.29</td>\n",
              "    </tr>\n",
              "    <tr>\n",
              "      <th>2008-02-01</th>\n",
              "      <td>38061</td>\n",
              "      <td>185.6</td>\n",
              "      <td>1268.63</td>\n",
              "      <td>68.1087</td>\n",
              "      <td>167.02</td>\n",
              "    </tr>\n",
              "    <tr>\n",
              "      <th>2008-03-01</th>\n",
              "      <td>38019</td>\n",
              "      <td>192.5</td>\n",
              "      <td>1377.22</td>\n",
              "      <td>67.9600</td>\n",
              "      <td>129.50</td>\n",
              "    </tr>\n",
              "    <tr>\n",
              "      <th>2008-04-01</th>\n",
              "      <td>37839</td>\n",
              "      <td>188.5</td>\n",
              "      <td>1320.11</td>\n",
              "      <td>69.0670</td>\n",
              "      <td>136.75</td>\n",
              "    </tr>\n",
              "    <tr>\n",
              "      <th>2008-05-01</th>\n",
              "      <td>39623</td>\n",
              "      <td>188.6</td>\n",
              "      <td>1326.45</td>\n",
              "      <td>69.2037</td>\n",
              "      <td>136.04</td>\n",
              "    </tr>\n",
              "  </tbody>\n",
              "</table>\n",
              "</div>"
            ],
            "text/plain": [
              "                  us_monthly_income  ...  coffee_tea_price\n",
              "observation_date                     ...                  \n",
              "2008-01-01                    38095  ...            140.29\n",
              "2008-02-01                    38061  ...            167.02\n",
              "2008-03-01                    38019  ...            129.50\n",
              "2008-04-01                    37839  ...            136.75\n",
              "2008-05-01                    39623  ...            136.04\n",
              "\n",
              "[5 rows x 5 columns]"
            ]
          },
          "metadata": {
            "tags": []
          },
          "execution_count": 7
        }
      ]
    },
    {
      "cell_type": "code",
      "metadata": {
        "colab": {
          "base_uri": "https://localhost:8080/",
          "height": 297
        },
        "id": "mHQNzF__nquL",
        "outputId": "187a882f-5587-4ce2-9038-2c0bd75666a6"
      },
      "source": [
        "df.describe()"
      ],
      "execution_count": null,
      "outputs": [
        {
          "output_type": "execute_result",
          "data": {
            "text/html": [
              "<div>\n",
              "<style scoped>\n",
              "    .dataframe tbody tr th:only-of-type {\n",
              "        vertical-align: middle;\n",
              "    }\n",
              "\n",
              "    .dataframe tbody tr th {\n",
              "        vertical-align: top;\n",
              "    }\n",
              "\n",
              "    .dataframe thead th {\n",
              "        text-align: right;\n",
              "    }\n",
              "</style>\n",
              "<table border=\"1\" class=\"dataframe\">\n",
              "  <thead>\n",
              "    <tr style=\"text-align: right;\">\n",
              "      <th></th>\n",
              "      <th>us_monthly_income</th>\n",
              "      <th>coffee_tea_ppi</th>\n",
              "      <th>cpo_price</th>\n",
              "      <th>coffee_tea_quantity</th>\n",
              "      <th>coffee_tea_price</th>\n",
              "    </tr>\n",
              "  </thead>\n",
              "  <tbody>\n",
              "    <tr>\n",
              "      <th>count</th>\n",
              "      <td>120.000000</td>\n",
              "      <td>120.000000</td>\n",
              "      <td>120.000000</td>\n",
              "      <td>120.000000</td>\n",
              "      <td>120.000000</td>\n",
              "    </tr>\n",
              "    <tr>\n",
              "      <th>mean</th>\n",
              "      <td>39901.066667</td>\n",
              "      <td>205.432500</td>\n",
              "      <td>881.204833</td>\n",
              "      <td>86.795696</td>\n",
              "      <td>158.014083</td>\n",
              "    </tr>\n",
              "    <tr>\n",
              "      <th>std</th>\n",
              "      <td>1849.707484</td>\n",
              "      <td>12.026464</td>\n",
              "      <td>201.596402</td>\n",
              "      <td>12.602460</td>\n",
              "      <td>43.010114</td>\n",
              "    </tr>\n",
              "    <tr>\n",
              "      <th>min</th>\n",
              "      <td>37369.000000</td>\n",
              "      <td>181.100000</td>\n",
              "      <td>581.250000</td>\n",
              "      <td>66.348200</td>\n",
              "      <td>107.400000</td>\n",
              "    </tr>\n",
              "    <tr>\n",
              "      <th>25%</th>\n",
              "      <td>38404.250000</td>\n",
              "      <td>198.025000</td>\n",
              "      <td>727.810000</td>\n",
              "      <td>78.404550</td>\n",
              "      <td>129.270000</td>\n",
              "    </tr>\n",
              "    <tr>\n",
              "      <th>50%</th>\n",
              "      <td>39305.500000</td>\n",
              "      <td>202.750000</td>\n",
              "      <td>828.545000</td>\n",
              "      <td>85.159150</td>\n",
              "      <td>141.025000</td>\n",
              "    </tr>\n",
              "    <tr>\n",
              "      <th>75%</th>\n",
              "      <td>41616.500000</td>\n",
              "      <td>211.075000</td>\n",
              "      <td>1006.630000</td>\n",
              "      <td>99.033800</td>\n",
              "      <td>178.792500</td>\n",
              "    </tr>\n",
              "    <tr>\n",
              "      <th>max</th>\n",
              "      <td>43628.000000</td>\n",
              "      <td>236.900000</td>\n",
              "      <td>1377.220000</td>\n",
              "      <td>104.949600</td>\n",
              "      <td>302.020000</td>\n",
              "    </tr>\n",
              "  </tbody>\n",
              "</table>\n",
              "</div>"
            ],
            "text/plain": [
              "       us_monthly_income  coffee_tea_ppi  ...  coffee_tea_quantity  coffee_tea_price\n",
              "count         120.000000      120.000000  ...           120.000000        120.000000\n",
              "mean        39901.066667      205.432500  ...            86.795696        158.014083\n",
              "std          1849.707484       12.026464  ...            12.602460         43.010114\n",
              "min         37369.000000      181.100000  ...            66.348200        107.400000\n",
              "25%         38404.250000      198.025000  ...            78.404550        129.270000\n",
              "50%         39305.500000      202.750000  ...            85.159150        141.025000\n",
              "75%         41616.500000      211.075000  ...            99.033800        178.792500\n",
              "max         43628.000000      236.900000  ...           104.949600        302.020000\n",
              "\n",
              "[8 rows x 5 columns]"
            ]
          },
          "metadata": {
            "tags": []
          },
          "execution_count": 8
        }
      ]
    },
    {
      "cell_type": "markdown",
      "metadata": {
        "id": "bBYDM5R5lE0w"
      },
      "source": [
        "# Box plot and removing outliers"
      ]
    },
    {
      "cell_type": "code",
      "metadata": {
        "colab": {
          "base_uri": "https://localhost:8080/",
          "height": 280
        },
        "id": "7hC972jfhUl7",
        "outputId": "365b60a7-d211-49c2-dd04-f9c04677ffc2"
      },
      "source": [
        "sns.boxplot(x=df[\"us_monthly_income\"])\n",
        "plt.show()"
      ],
      "execution_count": null,
      "outputs": [
        {
          "output_type": "display_data",
          "data": {
            "image/png": "[encoded data removed]",
            "text/plain": [
              "<Figure size 432x288 with 1 Axes>"
            ]
          },
          "metadata": {
            "tags": [],
            "needs_background": "light"
          }
        }
      ]
    },
    {
      "cell_type": "code",
      "metadata": {
        "colab": {
          "base_uri": "https://localhost:8080/",
          "height": 280
        },
        "id": "7Rwr2E4-kPfS",
        "outputId": "98d55abc-540e-4549-be99-2a064834f48d"
      },
      "source": [
        "sns.boxplot(x=df[\"coffee_tea_ppi\"])\n",
        "plt.show()"
      ],
      "execution_count": null,
      "outputs": [
        {
          "output_type": "display_data",
          "data": {
            "image/png": "[encoded data removed]",
            "text/plain": [
              "<Figure size 432x288 with 1 Axes>"
            ]
          },
          "metadata": {
            "tags": [],
            "needs_background": "light"
          }
        }
      ]
    },
    {
      "cell_type": "code",
      "metadata": {
        "colab": {
          "base_uri": "https://localhost:8080/",
          "height": 280
        },
        "id": "6l1Gh8mUkPm8",
        "outputId": "8afe7417-7b0f-4f52-8970-36a164a996be"
      },
      "source": [
        "sns.boxplot(x=df[\"cpo_price\"])\n",
        "plt.show()"
      ],
      "execution_count": null,
      "outputs": [
        {
          "output_type": "display_data",
          "data": {
            "image/png": "[encoded data removed]",
            "text/plain": [
              "<Figure size 432x288 with 1 Axes>"
            ]
          },
          "metadata": {
            "tags": [],
            "needs_background": "light"
          }
        }
      ]
    },
    {
      "cell_type": "code",
      "metadata": {
        "colab": {
          "base_uri": "https://localhost:8080/",
          "height": 280
        },
        "id": "bTa8TVDvkSE2",
        "outputId": "e417ce27-817b-4bce-e272-e536bd70bd7b"
      },
      "source": [
        "sns.boxplot(x=df[\"coffee_tea_quantity\"])\n",
        "plt.show()"
      ],
      "execution_count": null,
      "outputs": [
        {
          "output_type": "display_data",
          "data": {
            "image/png": "[encoded data removed]",
            "text/plain": [
              "<Figure size 432x288 with 1 Axes>"
            ]
          },
          "metadata": {
            "tags": [],
            "needs_background": "light"
          }
        }
      ]
    },
    {
      "cell_type": "code",
      "metadata": {
        "colab": {
          "base_uri": "https://localhost:8080/",
          "height": 280
        },
        "id": "OhCE8kYxkSJI",
        "outputId": "1eb7c089-63eb-4488-8d98-6476ac750511"
      },
      "source": [
        "sns.boxplot(x=df[\"coffee_tea_price\"])\n",
        "plt.show()"
      ],
      "execution_count": null,
      "outputs": [
        {
          "output_type": "display_data",
          "data": {
            "image/png": "[encoded data removed]",
            "text/plain": [
              "<Figure size 432x288 with 1 Axes>"
            ]
          },
          "metadata": {
            "tags": [],
            "needs_background": "light"
          }
        }
      ]
    },
    {
      "cell_type": "markdown",
      "metadata": {
        "id": "ASlQ-gdGlh0r"
      },
      "source": [
        "# 1st step of hausman test"
      ]
    },
    {
      "cell_type": "code",
      "metadata": {
        "colab": {
          "base_uri": "https://localhost:8080/"
        },
        "id": "JFkvbgaOlmBV",
        "outputId": "b37d8495-24c0-49a3-f3d8-c7c686a2f61b"
      },
      "source": [
        "import statsmodels.formula.api as smf\n",
        "\n",
        "model_coffeetea_price_nt =  smf.ols(formula='coffee_tea_price ~  us_monthly_income + coffee_tea_ppi + cpo_price', data=df).fit()\n",
        "print(model_coffeetea_price_nt.summary())"
      ],
      "execution_count": null,
      "outputs": [
        {
          "output_type": "stream",
          "text": [
            "                            OLS Regression Results                            \n",
            "==============================================================================\n",
            "Dep. Variable:       coffee_tea_price   R-squared:                       0.658\n",
            "Model:                            OLS   Adj. R-squared:                  0.649\n",
            "Method:                 Least Squares   F-statistic:                     74.45\n",
            "Date:                Thu, 15 Jul 2021   Prob (F-statistic):           6.45e-27\n",
            "Time:                        10:27:08   Log-Likelihood:                -556.74\n",
            "No. Observations:                 120   AIC:                             1121.\n",
            "Df Residuals:                     116   BIC:                             1133.\n",
            "Df Model:                           3                                         \n",
            "Covariance Type:            nonrobust                                         \n",
            "=====================================================================================\n",
            "                        coef    std err          t      P>|t|      [0.025      0.975]\n",
            "-------------------------------------------------------------------------------------\n",
            "Intercept          -228.0182     64.092     -3.558      0.001    -354.960    -101.076\n",
            "us_monthly_income    -0.0020      0.002     -1.355      0.178      -0.005       0.001\n",
            "coffee_tea_ppi        1.8587      0.221      8.415      0.000       1.421       2.296\n",
            "cpo_price             0.0973      0.014      6.757      0.000       0.069       0.126\n",
            "==============================================================================\n",
            "Omnibus:                        3.634   Durbin-Watson:                   0.410\n",
            "Prob(Omnibus):                  0.162   Jarque-Bera (JB):                3.151\n",
            "Skew:                           0.385   Prob(JB):                        0.207\n",
            "Kurtosis:                       3.189   Cond. No.                     1.10e+06\n",
            "==============================================================================\n",
            "\n",
            "Notes:\n",
            "[1] Standard Errors assume that the covariance matrix of the errors is correctly specified.\n",
            "[2] The condition number is large, 1.1e+06. This might indicate that there are\n",
            "strong multicollinearity or other numerical problems.\n"
          ],
          "name": "stdout"
        }
      ]
    },
    {
      "cell_type": "code",
      "metadata": {
        "colab": {
          "base_uri": "https://localhost:8080/"
        },
        "id": "6Cp9aR9dlmDu",
        "outputId": "4d001e43-5584-4593-e11a-811702cda9f8"
      },
      "source": [
        "df['residual_nt'] = model_coffeetea_price_nt.resid\n",
        "df.residual_nt"
      ],
      "execution_count": null,
      "outputs": [
        {
          "output_type": "stream",
          "text": [
            "/usr/local/lib/python3.7/dist-packages/ipykernel_launcher.py:1: SettingWithCopyWarning: \n",
            "A value is trying to be set on a copy of a slice from a DataFrame.\n",
            "Try using .loc[row_indexer,col_indexer] = value instead\n",
            "\n",
            "See the caveats in the documentation: https://pandas.pydata.org/pandas-docs/stable/user_guide/indexing.html#returning-a-view-versus-a-copy\n",
            "  \"\"\"Entry point for launching an IPython kernel.\n"
          ],
          "name": "stderr"
        },
        {
          "output_type": "execute_result",
          "data": {
            "text/plain": [
              "observation_date\n",
              "2008-01-01     0.375623\n",
              "2008-02-01     4.423742\n",
              "2008-03-01   -56.569733\n",
              "2008-04-01   -36.697547\n",
              "2008-05-01   -34.565337\n",
              "                ...    \n",
              "2017-08-01     2.425955\n",
              "2017-09-01    -0.377081\n",
              "2017-10-01    -3.140591\n",
              "2017-11-01    -1.710351\n",
              "2017-12-01     2.949514\n",
              "Name: residual_nt, Length: 120, dtype: float64"
            ]
          },
          "metadata": {
            "tags": []
          },
          "execution_count": 15
        }
      ]
    },
    {
      "cell_type": "markdown",
      "metadata": {
        "id": "GwM2pIoMmBzd"
      },
      "source": [
        "# Hausman test demand"
      ]
    },
    {
      "cell_type": "code",
      "metadata": {
        "colab": {
          "base_uri": "https://localhost:8080/"
        },
        "id": "_vCQnqnHlmGC",
        "outputId": "e84a35ae-da29-494a-9e94-1c619e617e5a"
      },
      "source": [
        "#Demand\n",
        "regss_d_nt =  smf.ols(formula='coffee_tea_quantity ~  residual_nt + us_monthly_income + cpo_price + coffee_tea_price', data=df).fit()\n",
        "print(regss_d_nt.summary())"
      ],
      "execution_count": null,
      "outputs": [
        {
          "output_type": "stream",
          "text": [
            "                             OLS Regression Results                            \n",
            "===============================================================================\n",
            "Dep. Variable:     coffee_tea_quantity   R-squared:                       0.838\n",
            "Model:                             OLS   Adj. R-squared:                  0.832\n",
            "Method:                  Least Squares   F-statistic:                     148.2\n",
            "Date:                 Thu, 15 Jul 2021   Prob (F-statistic):           2.03e-44\n",
            "Time:                         10:27:08   Log-Likelihood:                -364.80\n",
            "No. Observations:                  120   AIC:                             739.6\n",
            "Df Residuals:                      115   BIC:                             753.5\n",
            "Df Model:                            4                                         \n",
            "Covariance Type:             nonrobust                                         \n",
            "=====================================================================================\n",
            "                        coef    std err          t      P>|t|      [0.025      0.975]\n",
            "-------------------------------------------------------------------------------------\n",
            "Intercept          -141.1090     12.665    -11.141      0.000    -166.197    -116.021\n",
            "residual_nt          -0.0790      0.031     -2.584      0.011      -0.140      -0.018\n",
            "us_monthly_income     0.0057      0.000     19.520      0.000       0.005       0.006\n",
            "cpo_price            -0.0197      0.004     -4.388      0.000      -0.029      -0.011\n",
            "coffee_tea_price      0.1171      0.024      4.856      0.000       0.069       0.165\n",
            "==============================================================================\n",
            "Omnibus:                        0.069   Durbin-Watson:                   0.215\n",
            "Prob(Omnibus):                  0.966   Jarque-Bera (JB):                0.214\n",
            "Skew:                           0.031   Prob(JB):                        0.898\n",
            "Kurtosis:                       2.803   Cond. No.                     1.07e+06\n",
            "==============================================================================\n",
            "\n",
            "Notes:\n",
            "[1] Standard Errors assume that the covariance matrix of the errors is correctly specified.\n",
            "[2] The condition number is large, 1.07e+06. This might indicate that there are\n",
            "strong multicollinearity or other numerical problems.\n"
          ],
          "name": "stdout"
        }
      ]
    },
    {
      "cell_type": "markdown",
      "metadata": {
        "id": "MsdIjIJSmFno"
      },
      "source": [
        "# Hausman test supply"
      ]
    },
    {
      "cell_type": "code",
      "metadata": {
        "colab": {
          "base_uri": "https://localhost:8080/"
        },
        "id": "2tRpR5drHLdC",
        "outputId": "87299ff4-08c4-4571-e58f-eef75b3551a7"
      },
      "source": [
        "#supply\n",
        "regss_d_nt =  smf.ols(formula='coffee_tea_quantity ~  residual_nt + coffee_tea_ppi + coffee_tea_price', data=df).fit()\n",
        "print(regss_d_nt.summary())"
      ],
      "execution_count": null,
      "outputs": [
        {
          "output_type": "stream",
          "text": [
            "                             OLS Regression Results                            \n",
            "===============================================================================\n",
            "Dep. Variable:     coffee_tea_quantity   R-squared:                       0.502\n",
            "Model:                             OLS   Adj. R-squared:                  0.489\n",
            "Method:                  Least Squares   F-statistic:                     39.02\n",
            "Date:                 Thu, 15 Jul 2021   Prob (F-statistic):           1.65e-17\n",
            "Time:                         10:27:08   Log-Likelihood:                -431.98\n",
            "No. Observations:                  120   AIC:                             872.0\n",
            "Df Residuals:                      116   BIC:                             883.1\n",
            "Df Model:                            3                                         \n",
            "Covariance Type:             nonrobust                                         \n",
            "====================================================================================\n",
            "                       coef    std err          t      P>|t|      [0.025      0.975]\n",
            "------------------------------------------------------------------------------------\n",
            "Intercept         -102.6576     19.048     -5.389      0.000    -140.385     -64.930\n",
            "residual_nt          0.4241      0.052      8.222      0.000       0.322       0.526\n",
            "coffee_tea_ppi       1.2192      0.115     10.562      0.000       0.991       1.448\n",
            "coffee_tea_price    -0.3861      0.040     -9.704      0.000      -0.465      -0.307\n",
            "==============================================================================\n",
            "Omnibus:                        5.765   Durbin-Watson:                   0.104\n",
            "Prob(Omnibus):                  0.056   Jarque-Bera (JB):                5.296\n",
            "Skew:                          -0.446   Prob(JB):                       0.0708\n",
            "Kurtosis:                       2.487   Cond. No.                     6.05e+03\n",
            "==============================================================================\n",
            "\n",
            "Notes:\n",
            "[1] Standard Errors assume that the covariance matrix of the errors is correctly specified.\n",
            "[2] The condition number is large, 6.05e+03. This might indicate that there are\n",
            "strong multicollinearity or other numerical problems.\n"
          ],
          "name": "stdout"
        }
      ]
    },
    {
      "cell_type": "markdown",
      "metadata": {
        "id": "G20z2Hwdu-vA"
      },
      "source": [
        "# Identification test for demand"
      ]
    },
    {
      "cell_type": "code",
      "metadata": {
        "colab": {
          "base_uri": "https://localhost:8080/"
        },
        "id": "Dsi7hmT1vBjp",
        "outputId": "4edbad52-cb85-43c5-d15b-71a7480f987e"
      },
      "source": [
        "def ordercondition():\n",
        "    K,k,M,m=3,2,2,1\n",
        "    if (K-k==m-1):\n",
        "        print('Identified')\n",
        "    elif (K-k>=m-1):\n",
        "        print('Overidentified')\n",
        "    elif (K-k<=m-1):\n",
        "        print('Underidentified')\n",
        "    else:\n",
        "        print('Wrong')\n",
        "    return\n",
        "\n",
        "ordercondition()"
      ],
      "execution_count": null,
      "outputs": [
        {
          "output_type": "stream",
          "text": [
            "Overidentified\n"
          ],
          "name": "stdout"
        }
      ]
    },
    {
      "cell_type": "markdown",
      "metadata": {
        "id": "lq8y-ig_vCXN"
      },
      "source": [
        "# Identification test for supply"
      ]
    },
    {
      "cell_type": "code",
      "metadata": {
        "colab": {
          "base_uri": "https://localhost:8080/"
        },
        "id": "TpDqZb-YvEsX",
        "outputId": "d3bedddf-950e-4f06-b581-4c8eba5052d4"
      },
      "source": [
        "def ordercondition():\n",
        "    K,k,M,m=3,1,2,1\n",
        "    if (K-k==m-1):\n",
        "        print('Identified')\n",
        "    elif (K-k>=m-1):\n",
        "        print('Overidentified')\n",
        "    elif (K-k<=m-1):\n",
        "        print('Underidentified')\n",
        "    else:\n",
        "        print('Wrong')\n",
        "    return\n",
        "\n",
        "ordercondition()"
      ],
      "execution_count": null,
      "outputs": [
        {
          "output_type": "stream",
          "text": [
            "Overidentified\n"
          ],
          "name": "stdout"
        }
      ]
    },
    {
      "cell_type": "markdown",
      "metadata": {
        "id": "m0R7wPJ5psK2"
      },
      "source": [
        "# Demand 2SLS no transformation"
      ]
    },
    {
      "cell_type": "code",
      "metadata": {
        "id": "wWsi2CCYqPJI"
      },
      "source": [
        "df['coffetea_price_hat_nt'] = model_coffeetea_price_nt.fittedvalues"
      ],
      "execution_count": null,
      "outputs": []
    },
    {
      "cell_type": "code",
      "metadata": {
        "colab": {
          "base_uri": "https://localhost:8080/"
        },
        "id": "7udFL-wBqPNy",
        "outputId": "9cb0189b-724f-460c-fa3b-ea0f498b2acf"
      },
      "source": [
        "#fit regression model\n",
        "fit_demand_nt = smf.ols(formula='coffee_tea_quantity ~ us_monthly_income + cpo_price + coffetea_price_hat_nt', data=df).fit()\n",
        "\n",
        "#view model summary\n",
        "print(fit_demand_nt.summary())"
      ],
      "execution_count": null,
      "outputs": [
        {
          "output_type": "stream",
          "text": [
            "                             OLS Regression Results                            \n",
            "===============================================================================\n",
            "Dep. Variable:     coffee_tea_quantity   R-squared:                       0.832\n",
            "Model:                             OLS   Adj. R-squared:                  0.827\n",
            "Method:                  Least Squares   F-statistic:                     191.2\n",
            "Date:                 Thu, 15 Jul 2021   Prob (F-statistic):           9.93e-45\n",
            "Time:                         10:27:08   Log-Likelihood:                -366.88\n",
            "No. Observations:                  120   AIC:                             741.8\n",
            "Df Residuals:                      116   BIC:                             752.9\n",
            "Df Model:                            3                                         \n",
            "Covariance Type:             nonrobust                                         \n",
            "=========================================================================================\n",
            "                            coef    std err          t      P>|t|      [0.025      0.975]\n",
            "-----------------------------------------------------------------------------------------\n",
            "Intercept              -141.1090     12.832    -10.996      0.000    -166.525    -115.693\n",
            "us_monthly_income         0.0057      0.000     19.266      0.000       0.005       0.006\n",
            "cpo_price                -0.0197      0.005     -4.331      0.000      -0.029      -0.011\n",
            "coffetea_price_hat_nt     0.1171      0.024      4.793      0.000       0.069       0.165\n",
            "==============================================================================\n",
            "Omnibus:                        0.234   Durbin-Watson:                   0.202\n",
            "Prob(Omnibus):                  0.890   Jarque-Bera (JB):                0.334\n",
            "Skew:                           0.099   Prob(JB):                        0.846\n",
            "Kurtosis:                       2.834   Cond. No.                     1.07e+06\n",
            "==============================================================================\n",
            "\n",
            "Notes:\n",
            "[1] Standard Errors assume that the covariance matrix of the errors is correctly specified.\n",
            "[2] The condition number is large, 1.07e+06. This might indicate that there are\n",
            "strong multicollinearity or other numerical problems.\n"
          ],
          "name": "stdout"
        }
      ]
    },
    {
      "cell_type": "code",
      "metadata": {
        "colab": {
          "base_uri": "https://localhost:8080/"
        },
        "id": "3MrPjZxFq9Ya",
        "outputId": "f46eb2a6-49e9-43b1-8ce5-0b275f6b8c0a"
      },
      "source": [
        "from sklearn.metrics import mean_squared_error\n",
        "def rmse(valid, pred):\n",
        "    # calculate mse\n",
        "    rmse=mean_squared_error(valid, pred, squared=False)\n",
        "    return rmse\n",
        "rmse(fit_demand_nt.fittedvalues,df.coffee_tea_quantity)"
      ],
      "execution_count": null,
      "outputs": [
        {
          "output_type": "execute_result",
          "data": {
            "text/plain": [
              "5.147080090974534"
            ]
          },
          "metadata": {
            "tags": []
          },
          "execution_count": 22
        }
      ]
    },
    {
      "cell_type": "code",
      "metadata": {
        "colab": {
          "base_uri": "https://localhost:8080/"
        },
        "id": "FGiVjGeps42I",
        "outputId": "bc6c50fb-ac1c-4c3f-e159-675e2ce34221"
      },
      "source": [
        "from sklearn.metrics import mean_squared_error as mse\n",
        "mse(fit_demand_nt.fittedvalues,df.coffee_tea_quantity)"
      ],
      "execution_count": null,
      "outputs": [
        {
          "output_type": "execute_result",
          "data": {
            "text/plain": [
              "26.492433462906412"
            ]
          },
          "metadata": {
            "tags": []
          },
          "execution_count": 23
        }
      ]
    },
    {
      "cell_type": "code",
      "metadata": {
        "colab": {
          "base_uri": "https://localhost:8080/"
        },
        "id": "QlDEdHPnrUNL",
        "outputId": "a41e2c32-5679-4311-c0a4-f8e40f29421a"
      },
      "source": [
        "#Hetero\n",
        "from statsmodels.compat import lzip\n",
        "import statsmodels.stats.api as sms\n",
        "names = ['Lagrange multiplier statistic', 'p-value',\n",
        "        'f-value', 'f p-value']\n",
        "test = sms.het_breuschpagan(fit_demand_nt.resid, fit_demand_nt.model.exog)\n",
        "\n",
        "lzip(names, test)"
      ],
      "execution_count": null,
      "outputs": [
        {
          "output_type": "execute_result",
          "data": {
            "text/plain": [
              "[('Lagrange multiplier statistic', 9.657615939941259),\n",
              " ('p-value', 0.021712378862150286),\n",
              " ('f-value', 3.3842645283170665),\n",
              " ('f p-value', 0.02058511435254637)]"
            ]
          },
          "metadata": {
            "tags": []
          },
          "execution_count": 24
        }
      ]
    },
    {
      "cell_type": "code",
      "metadata": {
        "colab": {
          "base_uri": "https://localhost:8080/"
        },
        "id": "RnQxGOCN8g_B",
        "outputId": "8a8fb385-96fc-40ec-ef76-d6eb19706328"
      },
      "source": [
        "jarque_bera_test = stats.jarque_bera(fit_demand_nt.resid)\n",
        "jarque_bera_test"
      ],
      "execution_count": null,
      "outputs": [
        {
          "output_type": "execute_result",
          "data": {
            "text/plain": [
              "(0.33408575642902905, 0.8461633285866066)"
            ]
          },
          "metadata": {
            "tags": []
          },
          "execution_count": 25
        }
      ]
    },
    {
      "cell_type": "markdown",
      "metadata": {
        "id": "PsY20SrAwLhH"
      },
      "source": [
        "# Supply 2SLS no transformation"
      ]
    },
    {
      "cell_type": "code",
      "metadata": {
        "colab": {
          "base_uri": "https://localhost:8080/"
        },
        "id": "wwfoS0ijwN16",
        "outputId": "c9440007-6a85-4439-e991-38d1c5e33c90"
      },
      "source": [
        "#fit regression model\n",
        "fit_supply_nt = smf.ols(formula='coffee_tea_quantity ~ coffee_tea_ppi + coffetea_price_hat_nt', data=df).fit()\n",
        "\n",
        "#view model summary\n",
        "print(fit_supply_nt.summary())"
      ],
      "execution_count": null,
      "outputs": [
        {
          "output_type": "stream",
          "text": [
            "                             OLS Regression Results                            \n",
            "===============================================================================\n",
            "Dep. Variable:     coffee_tea_quantity   R-squared:                       0.496\n",
            "Model:                             OLS   Adj. R-squared:                  0.488\n",
            "Method:                  Least Squares   F-statistic:                     57.68\n",
            "Date:                 Thu, 15 Jul 2021   Prob (F-statistic):           3.69e-18\n",
            "Time:                         10:27:08   Log-Likelihood:                -432.67\n",
            "No. Observations:                  120   AIC:                             871.3\n",
            "Df Residuals:                      117   BIC:                             879.7\n",
            "Df Model:                            2                                         \n",
            "Covariance Type:             nonrobust                                         \n",
            "=========================================================================================\n",
            "                            coef    std err          t      P>|t|      [0.025      0.975]\n",
            "-----------------------------------------------------------------------------------------\n",
            "Intercept              -102.6576     19.076     -5.382      0.000    -140.436     -64.879\n",
            "coffee_tea_ppi            1.2192      0.116     10.546      0.000       0.990       1.448\n",
            "coffetea_price_hat_nt    -0.3861      0.040     -9.690      0.000      -0.465      -0.307\n",
            "==============================================================================\n",
            "Omnibus:                        4.936   Durbin-Watson:                   0.100\n",
            "Prob(Omnibus):                  0.085   Jarque-Bera (JB):                4.222\n",
            "Skew:                          -0.368   Prob(JB):                        0.121\n",
            "Kurtosis:                       2.450   Cond. No.                     6.04e+03\n",
            "==============================================================================\n",
            "\n",
            "Notes:\n",
            "[1] Standard Errors assume that the covariance matrix of the errors is correctly specified.\n",
            "[2] The condition number is large, 6.04e+03. This might indicate that there are\n",
            "strong multicollinearity or other numerical problems.\n"
          ],
          "name": "stdout"
        }
      ]
    },
    {
      "cell_type": "code",
      "metadata": {
        "colab": {
          "base_uri": "https://localhost:8080/"
        },
        "id": "AB6I0dDhwN5S",
        "outputId": "3f9109f5-cbc4-4d10-e0f2-05d1f9aea4e2"
      },
      "source": [
        "rmse(fit_supply_nt.fittedvalues,df.coffee_tea_quantity)"
      ],
      "execution_count": null,
      "outputs": [
        {
          "output_type": "execute_result",
          "data": {
            "text/plain": [
              "8.90519069653116"
            ]
          },
          "metadata": {
            "tags": []
          },
          "execution_count": 27
        }
      ]
    },
    {
      "cell_type": "code",
      "metadata": {
        "colab": {
          "base_uri": "https://localhost:8080/"
        },
        "id": "tsO0-2COs_Gw",
        "outputId": "1078ee1a-5542-4aeb-f563-7534488ab559"
      },
      "source": [
        "mse(fit_supply_nt.fittedvalues,df.coffee_tea_quantity)"
      ],
      "execution_count": null,
      "outputs": [
        {
          "output_type": "execute_result",
          "data": {
            "text/plain": [
              "79.3024213415851"
            ]
          },
          "metadata": {
            "tags": []
          },
          "execution_count": 28
        }
      ]
    },
    {
      "cell_type": "code",
      "metadata": {
        "colab": {
          "base_uri": "https://localhost:8080/"
        },
        "id": "-18-KL_GwN7t",
        "outputId": "d5da2d22-97d4-4416-ec74-f06a05e49f7c"
      },
      "source": [
        "#Hetero\n",
        "from statsmodels.compat import lzip\n",
        "import statsmodels.stats.api as sms\n",
        "names = ['Lagrange multiplier statistic', 'p-value',\n",
        "        'f-value', 'f p-value']\n",
        "test = sms.het_breuschpagan(fit_supply_nt.resid, fit_supply_nt.model.exog)\n",
        "\n",
        "lzip(names, test)"
      ],
      "execution_count": null,
      "outputs": [
        {
          "output_type": "execute_result",
          "data": {
            "text/plain": [
              "[('Lagrange multiplier statistic', 20.039686594853528),\n",
              " ('p-value', 4.450792488133282e-05),\n",
              " ('f-value', 11.72787105065813),\n",
              " ('f p-value', 2.2793564090009837e-05)]"
            ]
          },
          "metadata": {
            "tags": []
          },
          "execution_count": 29
        }
      ]
    },
    {
      "cell_type": "code",
      "metadata": {
        "colab": {
          "base_uri": "https://localhost:8080/"
        },
        "id": "CW5raovt8-Zq",
        "outputId": "01aaa617-a36f-4628-c0b7-c511552baf29"
      },
      "source": [
        "jarque_bera_test = stats.jarque_bera(fit_supply_nt.resid)\n",
        "jarque_bera_test"
      ],
      "execution_count": null,
      "outputs": [
        {
          "output_type": "execute_result",
          "data": {
            "text/plain": [
              "(4.222060507831864, 0.12111312486400438)"
            ]
          },
          "metadata": {
            "tags": []
          },
          "execution_count": 30
        }
      ]
    },
    {
      "cell_type": "markdown",
      "metadata": {
        "id": "WX8xAUWTsyyu"
      },
      "source": [
        "# VIF no transformation"
      ]
    },
    {
      "cell_type": "code",
      "metadata": {
        "colab": {
          "base_uri": "https://localhost:8080/"
        },
        "id": "9Rik3T6Es3tV",
        "outputId": "eaf781d4-ee53-46d9-dd4f-00ab4af97b93"
      },
      "source": [
        "ins = df[['us_monthly_income','coffee_tea_ppi','cpo_price']]\n",
        "ins.corr()"
      ],
      "execution_count": null,
      "outputs": [
        {
          "output_type": "execute_result",
          "data": {
            "text/html": [
              "<div>\n",
              "<style scoped>\n",
              "    .dataframe tbody tr th:only-of-type {\n",
              "        vertical-align: middle;\n",
              "    }\n",
              "\n",
              "    .dataframe tbody tr th {\n",
              "        vertical-align: top;\n",
              "    }\n",
              "\n",
              "    .dataframe thead th {\n",
              "        text-align: right;\n",
              "    }\n",
              "</style>\n",
              "<table border=\"1\" class=\"dataframe\">\n",
              "  <thead>\n",
              "    <tr style=\"text-align: right;\">\n",
              "      <th></th>\n",
              "      <th>us_monthly_income</th>\n",
              "      <th>coffee_tea_ppi</th>\n",
              "      <th>cpo_price</th>\n",
              "    </tr>\n",
              "  </thead>\n",
              "  <tbody>\n",
              "    <tr>\n",
              "      <th>us_monthly_income</th>\n",
              "      <td>1.000000</td>\n",
              "      <td>0.174737</td>\n",
              "      <td>-0.433123</td>\n",
              "    </tr>\n",
              "    <tr>\n",
              "      <th>coffee_tea_ppi</th>\n",
              "      <td>0.174737</td>\n",
              "      <td>1.000000</td>\n",
              "      <td>0.324346</td>\n",
              "    </tr>\n",
              "    <tr>\n",
              "      <th>cpo_price</th>\n",
              "      <td>-0.433123</td>\n",
              "      <td>0.324346</td>\n",
              "      <td>1.000000</td>\n",
              "    </tr>\n",
              "  </tbody>\n",
              "</table>\n",
              "</div>"
            ],
            "text/plain": [
              "                   us_monthly_income  coffee_tea_ppi  cpo_price\n",
              "us_monthly_income           1.000000        0.174737  -0.433123\n",
              "coffee_tea_ppi              0.174737        1.000000   0.324346\n",
              "cpo_price                  -0.433123        0.324346   1.000000"
            ]
          },
          "metadata": {
            "tags": []
          },
          "execution_count": 31
        }
      ]
    },
    {
      "cell_type": "code",
      "metadata": {
        "id": "A8dRtXEAtBca"
      },
      "source": [
        "from statsmodels.stats.outliers_influence import variance_inflation_factor\n",
        "\n",
        "def calc_vif(X): #calculating VIF\n",
        "  vif = pd.DataFrame()\n",
        "  vif[\"variables\"]=X.columns\n",
        "  vif[\"VIF\"]=[variance_inflation_factor(X.values,i) for i in range(X.shape[1])]\n",
        "  return(vif)"
      ],
      "execution_count": null,
      "outputs": []
    },
    {
      "cell_type": "code",
      "metadata": {
        "colab": {
          "base_uri": "https://localhost:8080/"
        },
        "id": "bt2TGxsotBeu",
        "outputId": "62fb300c-a834-48ba-b885-2c7fba55acc0"
      },
      "source": [
        "calc_vif(ins)"
      ],
      "execution_count": null,
      "outputs": [
        {
          "output_type": "execute_result",
          "data": {
            "text/html": [
              "<div>\n",
              "<style scoped>\n",
              "    .dataframe tbody tr th:only-of-type {\n",
              "        vertical-align: middle;\n",
              "    }\n",
              "\n",
              "    .dataframe tbody tr th {\n",
              "        vertical-align: top;\n",
              "    }\n",
              "\n",
              "    .dataframe thead th {\n",
              "        text-align: right;\n",
              "    }\n",
              "</style>\n",
              "<table border=\"1\" class=\"dataframe\">\n",
              "  <thead>\n",
              "    <tr style=\"text-align: right;\">\n",
              "      <th></th>\n",
              "      <th>variables</th>\n",
              "      <th>VIF</th>\n",
              "    </tr>\n",
              "  </thead>\n",
              "  <tbody>\n",
              "    <tr>\n",
              "      <th>0</th>\n",
              "      <td>us_monthly_income</td>\n",
              "      <td>261.863647</td>\n",
              "    </tr>\n",
              "    <tr>\n",
              "      <th>1</th>\n",
              "      <td>coffee_tea_ppi</td>\n",
              "      <td>353.937671</td>\n",
              "    </tr>\n",
              "    <tr>\n",
              "      <th>2</th>\n",
              "      <td>cpo_price</td>\n",
              "      <td>26.970506</td>\n",
              "    </tr>\n",
              "  </tbody>\n",
              "</table>\n",
              "</div>"
            ],
            "text/plain": [
              "           variables         VIF\n",
              "0  us_monthly_income  261.863647\n",
              "1     coffee_tea_ppi  353.937671\n",
              "2          cpo_price   26.970506"
            ]
          },
          "metadata": {
            "tags": []
          },
          "execution_count": 33
        }
      ]
    },
    {
      "cell_type": "code",
      "metadata": {
        "id": "nZuFmTt5tBg0",
        "colab": {
          "base_uri": "https://localhost:8080/"
        },
        "outputId": "b2d80dea-bccb-4002-cde7-e3e24b743501"
      },
      "source": [
        "ins = df[['us_monthly_income','coffee_tea_ppi','cpo_price']]\n",
        "\n",
        "ins['us_monthly_income_t'] = ins['us_monthly_income']**2\n",
        "ins['coffee_tea_ppi_t']= ins['coffee_tea_ppi']**6\n",
        "ins['cpo_price_t']= ins['cpo_price']**2\n",
        "\n",
        "X = ins[['us_monthly_income_t','coffee_tea_ppi_t','cpo_price_t']]\n",
        "\n",
        "calc_vif(X)"
      ],
      "execution_count": null,
      "outputs": [
        {
          "output_type": "stream",
          "text": [
            "/usr/local/lib/python3.7/dist-packages/ipykernel_launcher.py:3: SettingWithCopyWarning: \n",
            "A value is trying to be set on a copy of a slice from a DataFrame.\n",
            "Try using .loc[row_indexer,col_indexer] = value instead\n",
            "\n",
            "See the caveats in the documentation: https://pandas.pydata.org/pandas-docs/stable/user_guide/indexing.html#returning-a-view-versus-a-copy\n",
            "  This is separate from the ipykernel package so we can avoid doing imports until\n",
            "/usr/local/lib/python3.7/dist-packages/ipykernel_launcher.py:4: SettingWithCopyWarning: \n",
            "A value is trying to be set on a copy of a slice from a DataFrame.\n",
            "Try using .loc[row_indexer,col_indexer] = value instead\n",
            "\n",
            "See the caveats in the documentation: https://pandas.pydata.org/pandas-docs/stable/user_guide/indexing.html#returning-a-view-versus-a-copy\n",
            "  after removing the cwd from sys.path.\n",
            "/usr/local/lib/python3.7/dist-packages/ipykernel_launcher.py:5: SettingWithCopyWarning: \n",
            "A value is trying to be set on a copy of a slice from a DataFrame.\n",
            "Try using .loc[row_indexer,col_indexer] = value instead\n",
            "\n",
            "See the caveats in the documentation: https://pandas.pydata.org/pandas-docs/stable/user_guide/indexing.html#returning-a-view-versus-a-copy\n",
            "  \"\"\"\n"
          ],
          "name": "stderr"
        },
        {
          "output_type": "execute_result",
          "data": {
            "text/html": [
              "<div>\n",
              "<style scoped>\n",
              "    .dataframe tbody tr th:only-of-type {\n",
              "        vertical-align: middle;\n",
              "    }\n",
              "\n",
              "    .dataframe tbody tr th {\n",
              "        vertical-align: top;\n",
              "    }\n",
              "\n",
              "    .dataframe thead th {\n",
              "        text-align: right;\n",
              "    }\n",
              "</style>\n",
              "<table border=\"1\" class=\"dataframe\">\n",
              "  <thead>\n",
              "    <tr style=\"text-align: right;\">\n",
              "      <th></th>\n",
              "      <th>variables</th>\n",
              "      <th>VIF</th>\n",
              "    </tr>\n",
              "  </thead>\n",
              "  <tbody>\n",
              "    <tr>\n",
              "      <th>0</th>\n",
              "      <td>us_monthly_income_t</td>\n",
              "      <td>0.070206</td>\n",
              "    </tr>\n",
              "    <tr>\n",
              "      <th>1</th>\n",
              "      <td>coffee_tea_ppi_t</td>\n",
              "      <td>9.626642</td>\n",
              "    </tr>\n",
              "    <tr>\n",
              "      <th>2</th>\n",
              "      <td>cpo_price_t</td>\n",
              "      <td>1.061152</td>\n",
              "    </tr>\n",
              "  </tbody>\n",
              "</table>\n",
              "</div>"
            ],
            "text/plain": [
              "             variables       VIF\n",
              "0  us_monthly_income_t  0.070206\n",
              "1     coffee_tea_ppi_t  9.626642\n",
              "2          cpo_price_t  1.061152"
            ]
          },
          "metadata": {
            "tags": []
          },
          "execution_count": 34
        }
      ]
    },
    {
      "cell_type": "code",
      "metadata": {
        "id": "-y1Wb3aLtH10"
      },
      "source": [
        "df['us_monthly_income_t'] = ins['us_monthly_income_t']\n",
        "df['coffee_tea__ppi_t'] = ins['coffee_tea_ppi_t']\n",
        "df['cpo_price_t'] = ins['cpo_price_t']"
      ],
      "execution_count": null,
      "outputs": []
    },
    {
      "cell_type": "markdown",
      "metadata": {
        "id": "3l4fWXjLB7FT"
      },
      "source": [
        "# coffee tea price hat"
      ]
    },
    {
      "cell_type": "code",
      "metadata": {
        "colab": {
          "base_uri": "https://localhost:8080/"
        },
        "id": "UExkW9-gB855",
        "outputId": "fb20c5d9-5481-4af3-e9ec-41703cb87cf5"
      },
      "source": [
        "import statsmodels.formula.api as smf\n",
        "\n",
        "model_coffeetea_price =  smf.ols(formula='coffee_tea_price ~  us_monthly_income_t + coffee_tea__ppi_t + cpo_price_t', data=df).fit()\n",
        "print(model_coffeetea_price.summary())"
      ],
      "execution_count": null,
      "outputs": [
        {
          "output_type": "stream",
          "text": [
            "                            OLS Regression Results                            \n",
            "==============================================================================\n",
            "Dep. Variable:       coffee_tea_price   R-squared:                       0.621\n",
            "Model:                            OLS   Adj. R-squared:                  0.612\n",
            "Method:                 Least Squares   F-statistic:                     63.45\n",
            "Date:                Thu, 15 Jul 2021   Prob (F-statistic):           2.37e-24\n",
            "Time:                        10:27:08   Log-Likelihood:                -562.88\n",
            "No. Observations:                 120   AIC:                             1134.\n",
            "Df Residuals:                     116   BIC:                             1145.\n",
            "Df Model:                           3                                         \n",
            "Covariance Type:            nonrobust                                         \n",
            "=======================================================================================\n",
            "                          coef    std err          t      P>|t|      [0.025      0.975]\n",
            "---------------------------------------------------------------------------------------\n",
            "Intercept            8.068e-12   8.81e-13      9.156      0.000    6.32e-12    9.81e-12\n",
            "us_monthly_income_t  3.374e-08   4.36e-09      7.738      0.000    2.51e-08    4.24e-08\n",
            "coffee_tea__ppi_t    6.933e-13   8.94e-14      7.755      0.000    5.16e-13     8.7e-13\n",
            "cpo_price_t          5.969e-05   6.52e-06      9.156      0.000    4.68e-05    7.26e-05\n",
            "==============================================================================\n",
            "Omnibus:                        3.171   Durbin-Watson:                   0.380\n",
            "Prob(Omnibus):                  0.205   Jarque-Bera (JB):                2.659\n",
            "Skew:                           0.348   Prob(JB):                        0.265\n",
            "Kurtosis:                       3.219   Cond. No.                     1.12e+15\n",
            "==============================================================================\n",
            "\n",
            "Notes:\n",
            "[1] Standard Errors assume that the covariance matrix of the errors is correctly specified.\n",
            "[2] The condition number is large, 1.12e+15. This might indicate that there are\n",
            "strong multicollinearity or other numerical problems.\n"
          ],
          "name": "stdout"
        }
      ]
    },
    {
      "cell_type": "code",
      "metadata": {
        "colab": {
          "base_uri": "https://localhost:8080/"
        },
        "id": "zAnmReQV8-kc",
        "outputId": "ee571024-2182-490f-fb92-8cc7ebadc1e6"
      },
      "source": [
        "df['coffeetea_price_hat'] = model_coffeetea_price.fittedvalues\n",
        "df.head()"
      ],
      "execution_count": null,
      "outputs": [
        {
          "output_type": "execute_result",
          "data": {
            "text/html": [
              "<div>\n",
              "<style scoped>\n",
              "    .dataframe tbody tr th:only-of-type {\n",
              "        vertical-align: middle;\n",
              "    }\n",
              "\n",
              "    .dataframe tbody tr th {\n",
              "        vertical-align: top;\n",
              "    }\n",
              "\n",
              "    .dataframe thead th {\n",
              "        text-align: right;\n",
              "    }\n",
              "</style>\n",
              "<table border=\"1\" class=\"dataframe\">\n",
              "  <thead>\n",
              "    <tr style=\"text-align: right;\">\n",
              "      <th></th>\n",
              "      <th>us_monthly_income</th>\n",
              "      <th>coffee_tea_ppi</th>\n",
              "      <th>cpo_price</th>\n",
              "      <th>coffee_tea_quantity</th>\n",
              "      <th>coffee_tea_price</th>\n",
              "      <th>residual_nt</th>\n",
              "      <th>coffetea_price_hat_nt</th>\n",
              "      <th>us_monthly_income_t</th>\n",
              "      <th>coffee_tea__ppi_t</th>\n",
              "      <th>cpo_price_t</th>\n",
              "      <th>coffeetea_price_hat</th>\n",
              "    </tr>\n",
              "    <tr>\n",
              "      <th>observation_date</th>\n",
              "      <th></th>\n",
              "      <th></th>\n",
              "      <th></th>\n",
              "      <th></th>\n",
              "      <th></th>\n",
              "      <th></th>\n",
              "      <th></th>\n",
              "      <th></th>\n",
              "      <th></th>\n",
              "      <th></th>\n",
              "      <th></th>\n",
              "    </tr>\n",
              "  </thead>\n",
              "  <tbody>\n",
              "    <tr>\n",
              "      <th>2008-01-01</th>\n",
              "      <td>38095</td>\n",
              "      <td>181.1</td>\n",
              "      <td>1122.15</td>\n",
              "      <td>67.9724</td>\n",
              "      <td>140.29</td>\n",
              "      <td>0.375623</td>\n",
              "      <td>139.914377</td>\n",
              "      <td>1451229025</td>\n",
              "      <td>3.527855e+13</td>\n",
              "      <td>1.259221e+06</td>\n",
              "      <td>148.580853</td>\n",
              "    </tr>\n",
              "    <tr>\n",
              "      <th>2008-02-01</th>\n",
              "      <td>38061</td>\n",
              "      <td>185.6</td>\n",
              "      <td>1268.63</td>\n",
              "      <td>68.1087</td>\n",
              "      <td>167.02</td>\n",
              "      <td>4.423742</td>\n",
              "      <td>162.596258</td>\n",
              "      <td>1448639721</td>\n",
              "      <td>4.087595e+13</td>\n",
              "      <td>1.609422e+06</td>\n",
              "      <td>173.276745</td>\n",
              "    </tr>\n",
              "    <tr>\n",
              "      <th>2008-03-01</th>\n",
              "      <td>38019</td>\n",
              "      <td>192.5</td>\n",
              "      <td>1377.22</td>\n",
              "      <td>67.9600</td>\n",
              "      <td>129.50</td>\n",
              "      <td>-56.569733</td>\n",
              "      <td>186.069733</td>\n",
              "      <td>1445444361</td>\n",
              "      <td>5.088437e+13</td>\n",
              "      <td>1.896735e+06</td>\n",
              "      <td>197.256952</td>\n",
              "    </tr>\n",
              "    <tr>\n",
              "      <th>2008-04-01</th>\n",
              "      <td>37839</td>\n",
              "      <td>188.5</td>\n",
              "      <td>1320.11</td>\n",
              "      <td>69.0670</td>\n",
              "      <td>136.75</td>\n",
              "      <td>-36.697547</td>\n",
              "      <td>173.447547</td>\n",
              "      <td>1431789921</td>\n",
              "      <td>4.486091e+13</td>\n",
              "      <td>1.742690e+06</td>\n",
              "      <td>183.425549</td>\n",
              "    </tr>\n",
              "    <tr>\n",
              "      <th>2008-05-01</th>\n",
              "      <td>39623</td>\n",
              "      <td>188.6</td>\n",
              "      <td>1326.45</td>\n",
              "      <td>69.2037</td>\n",
              "      <td>136.04</td>\n",
              "      <td>-34.565337</td>\n",
              "      <td>170.605337</td>\n",
              "      <td>1569982129</td>\n",
              "      <td>4.500390e+13</td>\n",
              "      <td>1.759470e+06</td>\n",
              "      <td>189.188555</td>\n",
              "    </tr>\n",
              "  </tbody>\n",
              "</table>\n",
              "</div>"
            ],
            "text/plain": [
              "                  us_monthly_income  ...  coffeetea_price_hat\n",
              "observation_date                     ...                     \n",
              "2008-01-01                    38095  ...           148.580853\n",
              "2008-02-01                    38061  ...           173.276745\n",
              "2008-03-01                    38019  ...           197.256952\n",
              "2008-04-01                    37839  ...           183.425549\n",
              "2008-05-01                    39623  ...           189.188555\n",
              "\n",
              "[5 rows x 11 columns]"
            ]
          },
          "metadata": {
            "tags": []
          },
          "execution_count": 37
        }
      ]
    },
    {
      "cell_type": "markdown",
      "metadata": {
        "id": "J01A-UNNXvGL"
      },
      "source": [
        "# Demand with manual steps"
      ]
    },
    {
      "cell_type": "code",
      "metadata": {
        "colab": {
          "base_uri": "https://localhost:8080/"
        },
        "id": "VGH7mg9q9Pp1",
        "outputId": "e056e001-d8ec-47a9-9b7a-0f013af70b71"
      },
      "source": [
        "import statsmodels.formula.api as smf\n",
        "\n",
        "#fit regression model\n",
        "fit_demand_manual = smf.ols(formula='coffee_tea_quantity ~ np.log(us_monthly_income_t) + np.power(cpo_price_t,2) + np.power(coffeetea_price_hat,3)', data=df).fit()\n",
        "\n",
        "#view model summary\n",
        "print(fit_demand_manual.summary())"
      ],
      "execution_count": null,
      "outputs": [
        {
          "output_type": "stream",
          "text": [
            "                             OLS Regression Results                            \n",
            "===============================================================================\n",
            "Dep. Variable:     coffee_tea_quantity   R-squared:                       0.827\n",
            "Model:                             OLS   Adj. R-squared:                  0.823\n",
            "Method:                  Least Squares   F-statistic:                     185.1\n",
            "Date:                 Thu, 15 Jul 2021   Prob (F-statistic):           4.70e-44\n",
            "Time:                         10:27:09   Log-Likelihood:                -368.50\n",
            "No. Observations:                  120   AIC:                             745.0\n",
            "Df Residuals:                      116   BIC:                             756.1\n",
            "Df Model:                            3                                         \n",
            "Covariance Type:             nonrobust                                         \n",
            "====================================================================================================\n",
            "                                       coef    std err          t      P>|t|      [0.025      0.975]\n",
            "----------------------------------------------------------------------------------------------------\n",
            "Intercept                        -2352.9147    124.120    -18.957      0.000   -2598.751   -2107.078\n",
            "np.log(us_monthly_income_t)        115.1620      5.852     19.678      0.000     103.571     126.753\n",
            "np.power(cpo_price_t, 2)         -3.551e-12   9.82e-13     -3.618      0.000    -5.5e-12   -1.61e-12\n",
            "np.power(coffeetea_price_hat, 3)  6.065e-07   2.06e-07      2.939      0.004    1.98e-07    1.02e-06\n",
            "==============================================================================\n",
            "Omnibus:                        0.802   Durbin-Watson:                   0.213\n",
            "Prob(Omnibus):                  0.670   Jarque-Bera (JB):                0.881\n",
            "Skew:                          -0.186   Prob(JB):                        0.644\n",
            "Kurtosis:                       2.805   Cond. No.                     2.94e+14\n",
            "==============================================================================\n",
            "\n",
            "Notes:\n",
            "[1] Standard Errors assume that the covariance matrix of the errors is correctly specified.\n",
            "[2] The condition number is large, 2.94e+14. This might indicate that there are\n",
            "strong multicollinearity or other numerical problems.\n"
          ],
          "name": "stdout"
        }
      ]
    },
    {
      "cell_type": "code",
      "metadata": {
        "colab": {
          "base_uri": "https://localhost:8080/",
          "height": 142
        },
        "id": "i-2Du_tN0jP6",
        "outputId": "44f11d60-fa60-41eb-c673-40cc3968af8e"
      },
      "source": [
        "df['us_monthly_income_t_t'] = np.log(df['us_monthly_income_t'])\n",
        "df['cpo_price_t_t'] = np.power(df['cpo_price_t'],2)\n",
        "df['coffeetea_price_hat_t'] = np.power(df['coffeetea_price_hat'],3)\n",
        "independent_dem = df[['us_monthly_income_t_t','cpo_price_t_t','coffeetea_price_hat_t']]\n",
        "calc_vif(independent_dem)"
      ],
      "execution_count": null,
      "outputs": [
        {
          "output_type": "execute_result",
          "data": {
            "text/html": [
              "<div>\n",
              "<style scoped>\n",
              "    .dataframe tbody tr th:only-of-type {\n",
              "        vertical-align: middle;\n",
              "    }\n",
              "\n",
              "    .dataframe tbody tr th {\n",
              "        vertical-align: top;\n",
              "    }\n",
              "\n",
              "    .dataframe thead th {\n",
              "        text-align: right;\n",
              "    }\n",
              "</style>\n",
              "<table border=\"1\" class=\"dataframe\">\n",
              "  <thead>\n",
              "    <tr style=\"text-align: right;\">\n",
              "      <th></th>\n",
              "      <th>variables</th>\n",
              "      <th>VIF</th>\n",
              "    </tr>\n",
              "  </thead>\n",
              "  <tbody>\n",
              "    <tr>\n",
              "      <th>0</th>\n",
              "      <td>us_monthly_income_t_t</td>\n",
              "      <td>2.633397</td>\n",
              "    </tr>\n",
              "    <tr>\n",
              "      <th>1</th>\n",
              "      <td>cpo_price_t_t</td>\n",
              "      <td>4.534119</td>\n",
              "    </tr>\n",
              "    <tr>\n",
              "      <th>2</th>\n",
              "      <td>coffeetea_price_hat_t</td>\n",
              "      <td>2.236096</td>\n",
              "    </tr>\n",
              "  </tbody>\n",
              "</table>\n",
              "</div>"
            ],
            "text/plain": [
              "               variables       VIF\n",
              "0  us_monthly_income_t_t  2.633397\n",
              "1          cpo_price_t_t  4.534119\n",
              "2  coffeetea_price_hat_t  2.236096"
            ]
          },
          "metadata": {
            "tags": []
          },
          "execution_count": 39
        }
      ]
    },
    {
      "cell_type": "code",
      "metadata": {
        "colab": {
          "base_uri": "https://localhost:8080/"
        },
        "id": "UkF_Gpc9AAH1",
        "outputId": "007754cc-244c-4b06-96f6-9f957724a92a"
      },
      "source": [
        "rmse(fit_demand_manual.fittedvalues,df.coffee_tea_quantity)"
      ],
      "execution_count": null,
      "outputs": [
        {
          "output_type": "execute_result",
          "data": {
            "text/plain": [
              "5.21663808717697"
            ]
          },
          "metadata": {
            "tags": []
          },
          "execution_count": 40
        }
      ]
    },
    {
      "cell_type": "code",
      "metadata": {
        "colab": {
          "base_uri": "https://localhost:8080/"
        },
        "id": "mnjytvortCw_",
        "outputId": "5d0c5427-fa2f-46ea-e1e7-632c672b677e"
      },
      "source": [
        "mse(fit_demand_manual.fittedvalues,df.coffee_tea_quantity)"
      ],
      "execution_count": null,
      "outputs": [
        {
          "output_type": "execute_result",
          "data": {
            "text/plain": [
              "27.213312932585403"
            ]
          },
          "metadata": {
            "tags": []
          },
          "execution_count": 41
        }
      ]
    },
    {
      "cell_type": "code",
      "metadata": {
        "colab": {
          "base_uri": "https://localhost:8080/"
        },
        "id": "D57STWz4-gbQ",
        "outputId": "2b498d40-77d1-4b3b-95b8-172d64459e99"
      },
      "source": [
        "#Hetero\n",
        "from statsmodels.compat import lzip\n",
        "import statsmodels.stats.api as sms\n",
        "names = ['Lagrange multiplier statistic', 'p-value',\n",
        "        'f-value', 'f p-value']\n",
        "test = sms.het_breuschpagan(fit_demand_manual.resid, fit_demand_manual.model.exog)\n",
        "\n",
        "lzip(names, test)"
      ],
      "execution_count": null,
      "outputs": [
        {
          "output_type": "execute_result",
          "data": {
            "text/plain": [
              "[('Lagrange multiplier statistic', 11.676859265660324),\n",
              " ('p-value', 0.008576202193081776),\n",
              " ('f-value', 4.168132698867855),\n",
              " ('f p-value', 0.007641610724055946)]"
            ]
          },
          "metadata": {
            "tags": []
          },
          "execution_count": 42
        }
      ]
    },
    {
      "cell_type": "code",
      "metadata": {
        "colab": {
          "base_uri": "https://localhost:8080/"
        },
        "id": "lEU45P0W9vew",
        "outputId": "801e8304-915d-43f9-ff50-0673e8a020cc"
      },
      "source": [
        "durbin_watson(fit_demand_manual.resid)"
      ],
      "execution_count": null,
      "outputs": [
        {
          "output_type": "execute_result",
          "data": {
            "text/plain": [
              "0.2131742126263118"
            ]
          },
          "metadata": {
            "tags": []
          },
          "execution_count": 43
        }
      ]
    },
    {
      "cell_type": "code",
      "metadata": {
        "colab": {
          "base_uri": "https://localhost:8080/",
          "height": 367
        },
        "id": "Exl9x-1Z9voW",
        "outputId": "4e35a9d7-53a8-454d-92e3-7b523564e401"
      },
      "source": [
        "plt.figure(figsize=(12,5))\n",
        "plt.subplot(1,2,1)\n",
        "sns.kdeplot(fit_demand_manual.resid)\n",
        "plt.title('Normality Curve')\n",
        "plt.subplot(1,2,2)\n",
        "stats.probplot(fit_demand_manual.resid,plot=py)\n",
        "plt.title('QQ Plot')\n",
        "plt.show()\n",
        "\n",
        "jarque_bera_test = stats.jarque_bera(fit_demand_manual.resid)\n",
        "jarque_bera_test"
      ],
      "execution_count": null,
      "outputs": [
        {
          "output_type": "display_data",
          "data": {
            "image/png": "[encoded data removed]",
            "text/plain": [
              "<Figure size 864x360 with 2 Axes>"
            ]
          },
          "metadata": {
            "tags": [],
            "needs_background": "light"
          }
        },
        {
          "output_type": "execute_result",
          "data": {
            "text/plain": [
              "(0.8806762891307146, 0.6438186804834349)"
            ]
          },
          "metadata": {
            "tags": []
          },
          "execution_count": 44
        }
      ]
    },
    {
      "cell_type": "markdown",
      "metadata": {
        "id": "EuT-GAUKX6Xh"
      },
      "source": [
        "# Supply with manual steps"
      ]
    },
    {
      "cell_type": "code",
      "metadata": {
        "id": "fWv9Q3YY1uQg",
        "colab": {
          "base_uri": "https://localhost:8080/"
        },
        "outputId": "f3ded203-a752-42a7-fd2a-9611bce2aa92"
      },
      "source": [
        "import statsmodels.formula.api as smf\n",
        "\n",
        "#fit regression model\n",
        "fit_supply_manual = smf.ols(formula='coffee_tea_quantity ~ np.cbrt(coffee_tea__ppi_t) +  np.power(coffeetea_price_hat,3) - 1', data=df).fit()\n",
        "\n",
        "#view model summary\n",
        "print(fit_supply_manual.summary())"
      ],
      "execution_count": null,
      "outputs": [
        {
          "output_type": "stream",
          "text": [
            "                                 OLS Regression Results                                 \n",
            "========================================================================================\n",
            "Dep. Variable:     coffee_tea_quantity   R-squared (uncentered):                   0.989\n",
            "Model:                             OLS   Adj. R-squared (uncentered):              0.988\n",
            "Method:                  Least Squares   F-statistic:                              5155.\n",
            "Date:                 Thu, 15 Jul 2021   Prob (F-statistic):                   1.47e-115\n",
            "Time:                         10:27:09   Log-Likelihood:                         -438.25\n",
            "No. Observations:                  120   AIC:                                      880.5\n",
            "Df Residuals:                      118   BIC:                                      886.1\n",
            "Df Model:                            2                                                  \n",
            "Covariance Type:             nonrobust                                                  \n",
            "====================================================================================================\n",
            "                                       coef    std err          t      P>|t|      [0.025      0.975]\n",
            "----------------------------------------------------------------------------------------------------\n",
            "np.cbrt(coffee_tea__ppi_t)           0.0024   3.72e-05     64.542      0.000       0.002       0.002\n",
            "np.power(coffeetea_price_hat, 3) -3.241e-06   2.73e-07    -11.858      0.000   -3.78e-06    -2.7e-06\n",
            "==============================================================================\n",
            "Omnibus:                       14.528   Durbin-Watson:                   0.079\n",
            "Prob(Omnibus):                  0.001   Jarque-Bera (JB):                4.549\n",
            "Skew:                           0.005   Prob(JB):                        0.103\n",
            "Kurtosis:                       2.046   Cond. No.                         252.\n",
            "==============================================================================\n",
            "\n",
            "Notes:\n",
            "[1] R² is computed without centering (uncentered) since the model does not contain a constant.\n",
            "[2] Standard Errors assume that the covariance matrix of the errors is correctly specified.\n"
          ],
          "name": "stdout"
        }
      ]
    },
    {
      "cell_type": "code",
      "metadata": {
        "colab": {
          "base_uri": "https://localhost:8080/",
          "height": 111
        },
        "id": "2qvuuNnnCdGs",
        "outputId": "a9b783e4-6df3-4083-c868-f0122b8b162c"
      },
      "source": [
        "df['coffee_tea__ppi_t_y'] = np.cbrt(df['coffee_tea__ppi_t'])\n",
        "df['coffeetea_price_hat_t_s'] = (df['coffeetea_price_hat'])**3\n",
        "independent_sup = df[['coffee_tea__ppi_t_y','coffeetea_price_hat_t_s']]\n",
        "calc_vif(independent_sup)"
      ],
      "execution_count": null,
      "outputs": [
        {
          "output_type": "execute_result",
          "data": {
            "text/html": [
              "<div>\n",
              "<style scoped>\n",
              "    .dataframe tbody tr th:only-of-type {\n",
              "        vertical-align: middle;\n",
              "    }\n",
              "\n",
              "    .dataframe tbody tr th {\n",
              "        vertical-align: top;\n",
              "    }\n",
              "\n",
              "    .dataframe thead th {\n",
              "        text-align: right;\n",
              "    }\n",
              "</style>\n",
              "<table border=\"1\" class=\"dataframe\">\n",
              "  <thead>\n",
              "    <tr style=\"text-align: right;\">\n",
              "      <th></th>\n",
              "      <th>variables</th>\n",
              "      <th>VIF</th>\n",
              "    </tr>\n",
              "  </thead>\n",
              "  <tbody>\n",
              "    <tr>\n",
              "      <th>0</th>\n",
              "      <td>coffee_tea__ppi_t_y</td>\n",
              "      <td>3.414794</td>\n",
              "    </tr>\n",
              "    <tr>\n",
              "      <th>1</th>\n",
              "      <td>coffeetea_price_hat_t_s</td>\n",
              "      <td>3.414794</td>\n",
              "    </tr>\n",
              "  </tbody>\n",
              "</table>\n",
              "</div>"
            ],
            "text/plain": [
              "                 variables       VIF\n",
              "0      coffee_tea__ppi_t_y  3.414794\n",
              "1  coffeetea_price_hat_t_s  3.414794"
            ]
          },
          "metadata": {
            "tags": []
          },
          "execution_count": 46
        }
      ]
    },
    {
      "cell_type": "code",
      "metadata": {
        "colab": {
          "base_uri": "https://localhost:8080/"
        },
        "id": "DYG9LKLtZC8L",
        "outputId": "3b155bbe-72aa-4be1-80f0-8f6aec7d771f"
      },
      "source": [
        "rmse(fit_supply_manual.fittedvalues,df.coffee_tea_quantity)"
      ],
      "execution_count": null,
      "outputs": [
        {
          "output_type": "execute_result",
          "data": {
            "text/plain": [
              "9.329031881474279"
            ]
          },
          "metadata": {
            "tags": []
          },
          "execution_count": 47
        }
      ]
    },
    {
      "cell_type": "code",
      "metadata": {
        "colab": {
          "base_uri": "https://localhost:8080/"
        },
        "id": "YxLU_ZEXtFTV",
        "outputId": "15e4e591-3ebc-467c-e414-53fafb4e7e14"
      },
      "source": [
        "mse(fit_supply_manual.fittedvalues,df.coffee_tea_quantity)"
      ],
      "execution_count": null,
      "outputs": [
        {
          "output_type": "execute_result",
          "data": {
            "text/plain": [
              "87.03083584556353"
            ]
          },
          "metadata": {
            "tags": []
          },
          "execution_count": 48
        }
      ]
    },
    {
      "cell_type": "code",
      "metadata": {
        "colab": {
          "base_uri": "https://localhost:8080/"
        },
        "id": "wsBBSbNQZC-O",
        "outputId": "3e40066f-0d63-4b5b-bf14-c60e3e6a6238"
      },
      "source": [
        "#Hetero\n",
        "from statsmodels.compat import lzip\n",
        "import statsmodels.stats.api as sms\n",
        "names = ['Lagrange multiplier statistic', 'p-value',\n",
        "        'f-value', 'f p-value']\n",
        "test = sms.het_breuschpagan(fit_supply_manual.resid, fit_supply_manual.model.exog)\n",
        "\n",
        "lzip(names, test)"
      ],
      "execution_count": null,
      "outputs": [
        {
          "output_type": "execute_result",
          "data": {
            "text/plain": [
              "[('Lagrange multiplier statistic', 68.4394106756331),\n",
              " ('p-value', 1.308364301214106e-16),\n",
              " ('f-value', 78.31417915842319),\n",
              " ('f p-value', 2.26496223770527e-22)]"
            ]
          },
          "metadata": {
            "tags": []
          },
          "execution_count": 49
        }
      ]
    },
    {
      "cell_type": "code",
      "metadata": {
        "colab": {
          "base_uri": "https://localhost:8080/"
        },
        "id": "qNEpYTRm-Zxu",
        "outputId": "9c5d4c25-8d1a-44b7-b807-1fcd12b39638"
      },
      "source": [
        "durbin_watson(fit_supply_manual.resid)"
      ],
      "execution_count": null,
      "outputs": [
        {
          "output_type": "execute_result",
          "data": {
            "text/plain": [
              "0.07887216165763392"
            ]
          },
          "metadata": {
            "tags": []
          },
          "execution_count": 50
        }
      ]
    },
    {
      "cell_type": "code",
      "metadata": {
        "colab": {
          "base_uri": "https://localhost:8080/",
          "height": 367
        },
        "id": "18ZnCHV2-Z3w",
        "outputId": "5a4dacc1-f542-4a18-9ab4-697379f6e686"
      },
      "source": [
        "plt.figure(figsize=(12,5))\n",
        "plt.subplot(1,2,1)\n",
        "sns.kdeplot(fit_supply_manual.resid)\n",
        "plt.title('Normality Curve')\n",
        "plt.subplot(1,2,2)\n",
        "stats.probplot(fit_supply_manual.resid,plot=py)\n",
        "plt.title('QQ Plot')\n",
        "plt.show()\n",
        "\n",
        "jarque_bera_test = stats.jarque_bera(fit_supply_manual.resid)\n",
        "jarque_bera_test"
      ],
      "execution_count": null,
      "outputs": [
        {
          "output_type": "display_data",
          "data": {
            "image/png": "[encoded data removed]",
            "text/plain": [
              "<Figure size 864x360 with 2 Axes>"
            ]
          },
          "metadata": {
            "tags": [],
            "needs_background": "light"
          }
        },
        {
          "output_type": "execute_result",
          "data": {
            "text/plain": [
              "(4.548995611990994, 0.1028485453911836)"
            ]
          },
          "metadata": {
            "tags": []
          },
          "execution_count": 51
        }
      ]
    },
    {
      "cell_type": "markdown",
      "metadata": {
        "id": "xbNyS54gTQYj"
      },
      "source": [
        "# coba2"
      ]
    },
    {
      "cell_type": "code",
      "metadata": {
        "colab": {
          "base_uri": "https://localhost:8080/"
        },
        "id": "W6JSYPJpTR1h",
        "outputId": "b002ba45-da29-4ee4-f06f-c8220c28f9c2"
      },
      "source": [
        "import statsmodels.formula.api as smf\n",
        "\n",
        "#fit regression model\n",
        "fit_supply_manual = smf.ols(formula='coffee_tea_quantity ~ np.cbrt(coffee_tea__ppi_t) +  np.power(coffeetea_price_hat,3)', data=df).fit()\n",
        "\n",
        "#view model summary\n",
        "print(fit_supply_manual.summary())"
      ],
      "execution_count": null,
      "outputs": [
        {
          "output_type": "stream",
          "text": [
            "                             OLS Regression Results                            \n",
            "===============================================================================\n",
            "Dep. Variable:     coffee_tea_quantity   R-squared:                       0.459\n",
            "Model:                             OLS   Adj. R-squared:                  0.450\n",
            "Method:                  Least Squares   F-statistic:                     49.70\n",
            "Date:                 Thu, 15 Jul 2021   Prob (F-statistic):           2.38e-16\n",
            "Time:                         10:27:10   Log-Likelihood:                -436.94\n",
            "No. Observations:                  120   AIC:                             879.9\n",
            "Df Residuals:                      117   BIC:                             888.2\n",
            "Df Model:                            2                                         \n",
            "Covariance Type:             nonrobust                                         \n",
            "====================================================================================================\n",
            "                                       coef    std err          t      P>|t|      [0.025      0.975]\n",
            "----------------------------------------------------------------------------------------------------\n",
            "Intercept                          -17.6011     10.970     -1.605      0.111     -39.326       4.124\n",
            "np.cbrt(coffee_tea__ppi_t)           0.0029      0.000      9.785      0.000       0.002       0.003\n",
            "np.power(coffeetea_price_hat, 3) -3.737e-06   4.11e-07     -9.084      0.000   -4.55e-06   -2.92e-06\n",
            "==============================================================================\n",
            "Omnibus:                       19.412   Durbin-Watson:                   0.100\n",
            "Prob(Omnibus):                  0.000   Jarque-Bera (JB):                5.362\n",
            "Skew:                           0.095   Prob(JB):                       0.0685\n",
            "Kurtosis:                       1.982   Cond. No.                     7.47e+07\n",
            "==============================================================================\n",
            "\n",
            "Notes:\n",
            "[1] Standard Errors assume that the covariance matrix of the errors is correctly specified.\n",
            "[2] The condition number is large, 7.47e+07. This might indicate that there are\n",
            "strong multicollinearity or other numerical problems.\n"
          ],
          "name": "stdout"
        }
      ]
    },
    {
      "cell_type": "code",
      "metadata": {
        "id": "eAsM40ErTTHc"
      },
      "source": [],
      "execution_count": null,
      "outputs": []
    }
  ]
}